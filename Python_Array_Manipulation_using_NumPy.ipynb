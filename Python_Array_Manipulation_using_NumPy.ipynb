{
  "nbformat": 4,
  "nbformat_minor": 0,
  "metadata": {
    "colab": {
      "provenance": [],
      "authorship_tag": "ABX9TyMr+07nEzRPLwHoieyoVYPv",
      "include_colab_link": true
    },
    "kernelspec": {
      "name": "python3",
      "display_name": "Python 3"
    },
    "language_info": {
      "name": "python"
    }
  },
  "cells": [
    {
      "cell_type": "markdown",
      "metadata": {
        "id": "view-in-github",
        "colab_type": "text"
      },
      "source": [
        "<a href=\"https://colab.research.google.com/github/tusharthe/Python-Programming-Assignments/blob/main/Python_Array_Manipulation_using_NumPy.ipynb\" target=\"_parent\"><img src=\"https://colab.research.google.com/assets/colab-badge.svg\" alt=\"Open In Colab\"/></a>"
      ]
    },
    {
      "cell_type": "code",
      "source": [
        "import numpy as np"
      ],
      "metadata": {
        "id": "VL-mcP6GIBVY"
      },
      "execution_count": 202,
      "outputs": []
    },
    {
      "cell_type": "markdown",
      "source": [
        "## 1. Convert the given list into a numpy array and replace the odd elements with -2.\n",
        "Lst =[[1,2,3],\n",
        " [4,5,6],\n",
        "[7,8,9]]\n"
      ],
      "metadata": {
        "id": "_jXnH0rUHPuE"
      }
    },
    {
      "cell_type": "code",
      "source": [
        "lst =[[1,2,3],\n",
        " [4,5,6],\n",
        "[7,8,9]]\n"
      ],
      "metadata": {
        "id": "1BPe4jUnHXp9"
      },
      "execution_count": 203,
      "outputs": []
    },
    {
      "cell_type": "code",
      "source": [
        "list = np.array(lst);\n",
        "list"
      ],
      "metadata": {
        "colab": {
          "base_uri": "https://localhost:8080/"
        },
        "id": "Z0ZyPLelH6ev",
        "outputId": "795f7bf0-a88d-4d21-997c-ba77d077afcc"
      },
      "execution_count": 204,
      "outputs": [
        {
          "output_type": "execute_result",
          "data": {
            "text/plain": [
              "array([[1, 2, 3],\n",
              "       [4, 5, 6],\n",
              "       [7, 8, 9]])"
            ]
          },
          "metadata": {},
          "execution_count": 204
        }
      ]
    },
    {
      "cell_type": "code",
      "source": [
        "list[list % 2 != 0] = -2\n",
        "display(list)"
      ],
      "metadata": {
        "colab": {
          "base_uri": "https://localhost:8080/",
          "height": 69
        },
        "id": "g_wgmFhDIK6z",
        "outputId": "a9fd4735-3dc2-4dbf-c07e-b8192f870a82"
      },
      "execution_count": 205,
      "outputs": [
        {
          "output_type": "display_data",
          "data": {
            "text/plain": [
              "array([[-2,  2, -2],\n",
              "       [ 4, -2,  6],\n",
              "       [-2,  8, -2]])"
            ]
          },
          "metadata": {}
        }
      ]
    },
    {
      "cell_type": "markdown",
      "source": [
        "## 2. In the numpy array given below print all the elements ranging from 8 to 15.\n",
        "arr = [1,2,3,4,5,8,9,10,12,22,32,54,99,6,7]\n"
      ],
      "metadata": {
        "id": "hy_wSntSJU9p"
      }
    },
    {
      "cell_type": "code",
      "source": [
        "arr = [1,2,3,4,5,8,9,10,12,22,32,54,99,6,7]\n",
        "arr = np.array(arr)"
      ],
      "metadata": {
        "id": "T2dfwpucJXw8"
      },
      "execution_count": 206,
      "outputs": []
    },
    {
      "cell_type": "code",
      "source": [
        "for aarray in arr:\n",
        "  if aarray >= 8 and aarray <= 15:\n",
        "    print(aarray)"
      ],
      "metadata": {
        "colab": {
          "base_uri": "https://localhost:8080/"
        },
        "id": "PdgK7yCPJpuq",
        "outputId": "8f85fd45-d32e-4747-d202-02d7331dfbb9"
      },
      "execution_count": 207,
      "outputs": [
        {
          "output_type": "stream",
          "name": "stdout",
          "text": [
            "8\n",
            "9\n",
            "10\n",
            "12\n"
          ]
        }
      ]
    },
    {
      "cell_type": "code",
      "source": [],
      "metadata": {
        "id": "ex0wzVAAKG4e"
      },
      "execution_count": 207,
      "outputs": []
    },
    {
      "cell_type": "code",
      "metadata": {
        "colab": {
          "base_uri": "https://localhost:8080/"
        },
        "id": "057dc3c1",
        "outputId": "91024eed-b663-41c7-8ca8-61681bdf6af1"
      },
      "source": [
        "print(arr[(arr >= 8) & (arr <= 15)])"
      ],
      "execution_count": 208,
      "outputs": [
        {
          "output_type": "stream",
          "name": "stdout",
          "text": [
            "[ 8  9 10 12]\n"
          ]
        }
      ]
    },
    {
      "cell_type": "markdown",
      "source": [
        "## Create a 3*3 narray that includes numbers from 1 to 9 and swap columns 1 and 2."
      ],
      "metadata": {
        "id": "54OoojHkNsG6"
      }
    },
    {
      "cell_type": "code",
      "source": [
        "import numpy as np\n",
        "\n",
        "array = np.array([[1,2,3],[4,5,6], [7,8,9]])\n",
        "print(\"Original array:\")\n",
        "print(array)\n",
        "print()\n",
        "\n",
        "# Swap columns 1 and 2 (remembering that indexing starts at 0)\n",
        "col1 = array[:, 0].copy() # Create a copy of the first column\n",
        "array[:, 0] = array[:, 1]\n",
        "array[:, 1] = col1\n",
        "\n",
        "print(\"Array after swapping columns 1 and 2:\")\n",
        "print(array)"
      ],
      "metadata": {
        "colab": {
          "base_uri": "https://localhost:8080/"
        },
        "id": "90MfWX8zOCKn",
        "outputId": "70cea79e-edbe-45e6-e727-e1a0b1d55532"
      },
      "execution_count": 209,
      "outputs": [
        {
          "output_type": "stream",
          "name": "stdout",
          "text": [
            "Original array:\n",
            "[[1 2 3]\n",
            " [4 5 6]\n",
            " [7 8 9]]\n",
            "\n",
            "Array after swapping columns 1 and 2:\n",
            "[[2 1 3]\n",
            " [5 4 6]\n",
            " [8 7 9]]\n"
          ]
        }
      ]
    },
    {
      "cell_type": "markdown",
      "source": [
        "## In the given numpy array replace the NaN values with the average of columns\n",
        "arr = np.array([[1.3, 2.5, 3.6, np.nan],\n",
        " [2.6, 3.3, np.nan, 5.5],\n",
        " [2.1, 3.2, 5.4, 6.5]])\n"
      ],
      "metadata": {
        "id": "1cCGrkmyQFpa"
      }
    },
    {
      "cell_type": "code",
      "source": [
        "arr = np.array([[1.3, 2.5, 3.6, np.nan],\n",
        " [2.6, 3.3, np.nan, 5.5],\n",
        " [2.1, 3.2, 5.4, 6.5]])\n",
        "arr"
      ],
      "metadata": {
        "colab": {
          "base_uri": "https://localhost:8080/"
        },
        "id": "Ka4Kg2NOQHDE",
        "outputId": "b447e0e2-d1e8-4b2b-82b6-4e36fa5ba361"
      },
      "execution_count": 210,
      "outputs": [
        {
          "output_type": "execute_result",
          "data": {
            "text/plain": [
              "array([[1.3, 2.5, 3.6, nan],\n",
              "       [2.6, 3.3, nan, 5.5],\n",
              "       [2.1, 3.2, 5.4, 6.5]])"
            ]
          },
          "metadata": {},
          "execution_count": 210
        }
      ]
    },
    {
      "cell_type": "code",
      "source": [
        "np.isnan(arr)"
      ],
      "metadata": {
        "colab": {
          "base_uri": "https://localhost:8080/"
        },
        "id": "BzOpFEKLQPiG",
        "outputId": "064b3615-2bfe-4be3-a22d-0a3a4850b11e"
      },
      "execution_count": 211,
      "outputs": [
        {
          "output_type": "execute_result",
          "data": {
            "text/plain": [
              "array([[False, False, False,  True],\n",
              "       [False, False,  True, False],\n",
              "       [False, False, False, False]])"
            ]
          },
          "metadata": {},
          "execution_count": 211
        }
      ]
    },
    {
      "cell_type": "code",
      "source": [
        "col_means = np.nanmean(arr, axis=0)\n",
        "# print(col_means)\n",
        "for i in range(arr.shape[1]):\n",
        "  arr[np.isnan(arr[:, i]), i] = col_means[i]\n",
        "\n",
        "display(arr)"
      ],
      "metadata": {
        "colab": {
          "base_uri": "https://localhost:8080/",
          "height": 69
        },
        "id": "Ccb7vWcyQbsm",
        "outputId": "0b804d72-f874-4727-af27-0baabfe75dc3"
      },
      "execution_count": 212,
      "outputs": [
        {
          "output_type": "display_data",
          "data": {
            "text/plain": [
              "array([[1.3, 2.5, 3.6, 6. ],\n",
              "       [2.6, 3.3, 4.5, 5.5],\n",
              "       [2.1, 3.2, 5.4, 6.5]])"
            ]
          },
          "metadata": {}
        }
      ]
    },
    {
      "cell_type": "markdown",
      "source": [
        "## 5. For the numpy array given below perform the following operation:\n",
        "\n",
        "\n",
        "1.   Convert the numpy array into a numpy matrix\n",
        "2.   Sort the values in a matrix\n",
        "\n",
        "\n",
        "arr = [[2,4,6],\n",
        "[1,3,5]]"
      ],
      "metadata": {
        "id": "Iej8y5B2Roxp"
      }
    },
    {
      "cell_type": "code",
      "source": [
        "arr = [[2,4,6],\n",
        "[1,3,5]]\n",
        "arr"
      ],
      "metadata": {
        "colab": {
          "base_uri": "https://localhost:8080/"
        },
        "id": "SLFtBv1SRr8z",
        "outputId": "00fe6dcb-14f2-491e-9d74-fec402a2c85c"
      },
      "execution_count": 213,
      "outputs": [
        {
          "output_type": "execute_result",
          "data": {
            "text/plain": [
              "[[2, 4, 6], [1, 3, 5]]"
            ]
          },
          "metadata": {},
          "execution_count": 213
        }
      ]
    },
    {
      "cell_type": "code",
      "source": [
        "array = np.array(arr)\n",
        "display(array)"
      ],
      "metadata": {
        "colab": {
          "base_uri": "https://localhost:8080/",
          "height": 52
        },
        "id": "QEVNiuOYR47L",
        "outputId": "dd88419d-c810-4ef2-c4bf-f8c09a36cf6b"
      },
      "execution_count": 214,
      "outputs": [
        {
          "output_type": "display_data",
          "data": {
            "text/plain": [
              "array([[2, 4, 6],\n",
              "       [1, 3, 5]])"
            ]
          },
          "metadata": {}
        }
      ]
    },
    {
      "cell_type": "code",
      "source": [
        "array2 = np.matrix(array)\n",
        "array2"
      ],
      "metadata": {
        "colab": {
          "base_uri": "https://localhost:8080/"
        },
        "id": "N7oeEj9jSKpP",
        "outputId": "ab81edb7-3270-46a2-ce4b-d622ae9e1ff0"
      },
      "execution_count": 215,
      "outputs": [
        {
          "output_type": "execute_result",
          "data": {
            "text/plain": [
              "matrix([[2, 4, 6],\n",
              "        [1, 3, 5]])"
            ]
          },
          "metadata": {},
          "execution_count": 215
        }
      ]
    },
    {
      "cell_type": "code",
      "source": [
        "sorted_array = np.sort(np.asarray(array2).flatten())\n",
        "display(sorted_array)"
      ],
      "metadata": {
        "colab": {
          "base_uri": "https://localhost:8080/",
          "height": 34
        },
        "id": "PQ8hBEctSYOL",
        "outputId": "4d32cce4-4bfc-446d-a5d9-61ad4dd468ba"
      },
      "execution_count": 216,
      "outputs": [
        {
          "output_type": "display_data",
          "data": {
            "text/plain": [
              "array([1, 2, 3, 4, 5, 6])"
            ]
          },
          "metadata": {}
        }
      ]
    }
  ]
}