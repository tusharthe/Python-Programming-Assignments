{
  "nbformat": 4,
  "nbformat_minor": 0,
  "metadata": {
    "colab": {
      "provenance": [],
      "authorship_tag": "ABX9TyP9cQdaiITaxGhZwgMHbzJ+",
      "include_colab_link": true
    },
    "kernelspec": {
      "name": "python3",
      "display_name": "Python 3"
    },
    "language_info": {
      "name": "python"
    }
  },
  "cells": [
    {
      "cell_type": "markdown",
      "metadata": {
        "id": "view-in-github",
        "colab_type": "text"
      },
      "source": [
        "<a href=\"https://colab.research.google.com/github/tusharthe/Python-Programming-Assignments/blob/main/Data_Manipulation_using_Pandas_Assignment.ipynb\" target=\"_parent\"><img src=\"https://colab.research.google.com/assets/colab-badge.svg\" alt=\"Open In Colab\"/></a>"
      ]
    },
    {
      "cell_type": "markdown",
      "source": [
        "## 1. Extract data from the givenSalaryGender CSV fileand store the data from each column in a separate NumPy array."
      ],
      "metadata": {
        "id": "k_rHDcRUVoDI"
      }
    },
    {
      "cell_type": "code",
      "source": [],
      "metadata": {
        "id": "D3Oc4V-zVsfW"
      },
      "execution_count": null,
      "outputs": []
    }
  ]
}